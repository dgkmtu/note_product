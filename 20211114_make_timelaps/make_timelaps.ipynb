{
 "cells": [
  {
   "cell_type": "code",
   "execution_count": null,
   "metadata": {},
   "outputs": [],
   "source": [
    "#関心領域のポリゴン情報の取得\n",
    "from IPython.display import HTML\n",
    "HTML(r'<iframe width=\"960\" height=\"480\" src=\"https://www.keene.edu/campus/maps/tool/\" frameborder=\"0\">')"
   ]
  },
  {
   "cell_type": "code",
   "execution_count": null,
   "metadata": {},
   "outputs": [],
   "source": [
    "# 関心領域の座標情報を設定\n",
    "AREA = [\n",
    "      [\n",
    "        139.0632368,\n",
    "        35.1259218\n",
    "      ],\n",
    "      [\n",
    "        139.0643526,\n",
    "        35.1079486\n",
    "      ],\n",
    "      [\n",
    "        139.0918184,\n",
    "        35.106474\n",
    "      ],\n",
    "      [\n",
    "        139.09302,\n",
    "        35.1254304\n",
    "      ],\n",
    "      [\n",
    "        139.0632368,\n",
    "        35.1259218\n",
    "      ]\n",
    "    ]"
   ]
  },
  {
   "cell_type": "code",
   "execution_count": null,
   "metadata": {},
   "outputs": [],
   "source": [
    "# 必要ライブラリのインポート\n",
    "from glob import glob\n",
    "from geojson import Polygon\n",
    "import geopandas as gpd\n",
    "import os\n",
    "import json\n",
    "import zipfile\n",
    "import rasterio as rio\n",
    "import rasterio.mask\n",
    "from osgeo import gdal\n",
    "from PIL import Image, ImageDraw, ImageFont\n",
    "from tqdm import tqdm\n",
    "import shutil"
   ]
  },
  {
   "cell_type": "code",
   "execution_count": null,
   "metadata": {},
   "outputs": [],
   "source": [
    "# 関心領域の地理情報ポリゴン作成\n",
    "m = Polygon([AREA])\n",
    "object_name = \"atami\"\n",
    "\n",
    "with open(f\"{object_name}.geojson\", \"w\") as f:\n",
    "  json.dump(m, f)"
   ]
  },
  {
   "cell_type": "code",
   "execution_count": null,
   "metadata": {},
   "outputs": [],
   "source": [
    "# 作業領域の作成\n",
    "sentinel_dir = \"./work/ImageSentinel2/\"\n",
    "os.makedirs(sentinel_dir, exist_ok=True)\n",
    "\n",
    "# RGBtifファイルの一時置き場\n",
    "tif_dir = \"./work/TifSentinel2/\"\n",
    "os.makedirs(tif_dir, exist_ok=True)\n",
    "\n",
    "# マスクtifファイルの一時置き場\n",
    "mask_dir = \"./work/MaskSentinel2/\"\n",
    "os.makedirs(mask_dir, exist_ok=True)\n",
    "\n",
    "# JPEGファイルの一時置き場\n",
    "jpeg_dir = \"./work/JpegSentinel2/\"\n",
    "os.makedirs(jpeg_dir, exist_ok=True)\n",
    "\n",
    "# ZIPファイルの解凍処理\n",
    "zip_list = glob(\"./images/*.zip\")\n",
    "for zip in tqdm(zip_list):\n",
    "  with zipfile.ZipFile(zip) as zf:\n",
    "    zf.extractall(sentinel_dir)"
   ]
  },
  {
   "cell_type": "code",
   "execution_count": null,
   "metadata": {},
   "outputs": [],
   "source": [
    "# Sentinel-2データを読み込み、サンプルRGBファイルを作成する\n",
    "def read_sentinel2(sentinel, rgb_path):\n",
    "  path = sentinel + \"/GRANULE/\"\n",
    "  files = os.listdir(path)\n",
    "  pathA = path + str(files[0])\n",
    "  files2 = os.listdir(pathA)\n",
    "  pathB = pathA + \"/IMG_DATA/R10m/\"\n",
    "  files3 = os.listdir(pathB)\n",
    "  \n",
    "  # Sentinel-2データの読み込み\n",
    "  Red = rio.open(pathB + str(files3[0][0:23] + 'B04_10m.jp2'))\n",
    "  Green = rio.open(pathB + str(files3[0][0:23] + 'B03_10m.jp2'))\n",
    "  Blue = rio.open(pathB + str(files3[0][0:23] + 'B02_10m.jp2'))\n",
    "\n",
    "  # サンプルRGBファイルの作成\n",
    "  with rio.open(rgb_path, \"w\", driver=\"GTiff\",\n",
    "                width=Red.width, height=Red.height, count=3,\n",
    "                crs=Red.crs, transform=Red.transform, dtype=Red.dtypes[0]) as rgb:\n",
    "    rgb.write(Red.read(1), 1)\n",
    "    rgb.write(Green.read(1), 2)\n",
    "    rgb.write(Blue.read(1), 3)\n",
    "    rgb.close() \n",
    "  \n",
    "  return Red, Green, Blue"
   ]
  },
  {
   "cell_type": "code",
   "execution_count": null,
   "metadata": {},
   "outputs": [],
   "source": [
    "def make_mask(input_geojson, rgb_path, band, mask_path):\n",
    "  # ポリゴン情報の取得\n",
    "  nReserve_geo = gpd.read_file(input_geojson)\n",
    "\n",
    "  # 取得画像のEPSGを取得\n",
    "  epsg = band.crs\n",
    "  nReserve_proj = nReserve_geo.to_crs({\"init\": str(epsg)})\n",
    "\n",
    "  # カラー合成画像より関心域を抽出\n",
    "  with rio.open(rgb_path) as src:\n",
    "    out_image, out_transform = rasterio.mask.mask(src, nReserve_proj.geometry, crop=True)\n",
    "    out_meta = src.meta.copy()\n",
    "    out_meta.update({\"driver\": \"GTiff\",\n",
    "                     \"height\": out_image.shape[1],\n",
    "                     \"width\": out_image.shape[2],\n",
    "                     \"transform\": out_transform})\n",
    "\n",
    "    with rasterio.open(mask_path, \"w\", **out_meta) as dest:\n",
    "      dest.write(out_image)"
   ]
  },
  {
   "cell_type": "code",
   "execution_count": null,
   "metadata": {},
   "outputs": [],
   "source": [
    "def make_jpeg(jpeg_path, mask_path):\n",
    "  # 抽出画像のjpeg処理\n",
    "  scale = '-scale 0 255 0 15'\n",
    "  options_list = ['-ot Byte', '-of JPEG', scale]\n",
    "  options_string = \" \".join(options_list)\n",
    "\n",
    "  # jpeg画像の保存\n",
    "  gdal.Translate(jpeg_path, mask_path,\n",
    "                 options=options_string)"
   ]
  },
  {
   "cell_type": "code",
   "execution_count": null,
   "metadata": {},
   "outputs": [],
   "source": [
    "def add_sentinelDate(jpeg_path, date):\n",
    "  img = Image.open(jpeg_path)\n",
    "\n",
    "  # 日付の記載位置の設定\n",
    "  x = img.size[0]/100\n",
    "  y = img.size[1]/100\n",
    "\n",
    "  # 画像に日付を記載\n",
    "  obj_draw = ImageDraw.Draw(img)\n",
    "  obj_draw.text((x, y), date, fill=(255, 255, 255))\n",
    "  obj_draw.text((img.size[0]/2, img.size[1]-y-img.size[1]/20), 'produced fromESA remote sensing data', fill=(255, 255, 255))\n",
    "  img.save(jpeg_path)\n"
   ]
  },
  {
   "cell_type": "code",
   "execution_count": null,
   "metadata": {},
   "outputs": [],
   "source": [
    "sentinel_list = glob(f\"{sentinel_dir}*\")\n",
    "\n",
    "for sentinel in tqdm(sentinel_list):\n",
    "  # Sentinel-2の画像データを取得\n",
    "  rgb_path = f\"{tif_dir}{object_name}.tif\"\n",
    "  Red, Green, Blue = read_sentinel2(sentinel, rgb_path)\n",
    "\n",
    "  # マスク画像の作成\n",
    "  mask_path = f\"{mask_dir}masked_{object_name}.tif\"\n",
    "  make_mask(f\"{object_name}.geojson\", rgb_path, Red, mask_path)\n",
    "  \n",
    "  # jpeg画像の作成\n",
    "  date = sentinel.split(\"/\")[3][11:19]\n",
    "  jpeg_path = f\"{jpeg_dir}{date}_masked_{object_name}.jpg\"\n",
    "  make_jpeg(jpeg_path, mask_path)\n",
    "  \n",
    "\n",
    "  # 画像への撮像日の記載\n",
    "  add_sentinelDate(jpeg_path, date)  "
   ]
  },
  {
   "cell_type": "code",
   "execution_count": null,
   "metadata": {},
   "outputs": [],
   "source": [
    "## 関心領域のGIFアニメーションを作成 ##\n",
    "images = []\n",
    "files = sorted(glob(f\"{jpeg_dir}/*.jpg\"))\n",
    "images = list(map(lambda file: Image.open(file), files))\n",
    "\n",
    "images[0].save(f\"./{object_name}.gif\", save_all=True, append_images=images[1:], duration=1000, loop=0)\n"
   ]
  },
  {
   "cell_type": "code",
   "execution_count": null,
   "metadata": {},
   "outputs": [],
   "source": []
  }
 ],
 "metadata": {
  "kernelspec": {
   "display_name": "Python 3",
   "language": "python",
   "name": "python3"
  },
  "language_info": {
   "codemirror_mode": {
    "name": "ipython",
    "version": 3
   },
   "file_extension": ".py",
   "mimetype": "text/x-python",
   "name": "python",
   "nbconvert_exporter": "python",
   "pygments_lexer": "ipython3",
   "version": "3.7.4"
  }
 },
 "nbformat": 4,
 "nbformat_minor": 4
}
