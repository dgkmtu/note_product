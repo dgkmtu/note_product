{
 "cells": [
  {
   "cell_type": "markdown",
   "metadata": {
    "id": "7OE0a2p2_Pba"
   },
   "source": [
    "#沖縄におけるSentinel-2データの表示"
   ]
  },
  {
   "cell_type": "markdown",
   "metadata": {
    "id": "Wiz7Xk4e_aOO"
   },
   "source": [
    "## 1. Google Colaboratryのマウント処理"
   ]
  },
  {
   "cell_type": "code",
   "execution_count": null,
   "metadata": {
    "colab": {
     "base_uri": "https://localhost:8080/"
    },
    "executionInfo": {
     "elapsed": 23053,
     "status": "ok",
     "timestamp": 1635847064112,
     "user": {
      "displayName": "yuto Inagaki",
      "photoUrl": "https://lh3.googleusercontent.com/a/default-user=s64",
      "userId": "02644303183786394254"
     },
     "user_tz": -540
    },
    "id": "vqUH1vge_N8d",
    "outputId": "aa36d8d9-eebd-409a-db05-d8c137321083"
   },
   "outputs": [],
   "source": [
    "from google.colab import drive\n",
    "drive.mount('/content/drive')"
   ]
  },
  {
   "cell_type": "code",
   "execution_count": null,
   "metadata": {
    "colab": {
     "base_uri": "https://localhost:8080/"
    },
    "executionInfo": {
     "elapsed": 7,
     "status": "ok",
     "timestamp": 1635847064113,
     "user": {
      "displayName": "yuto Inagaki",
      "photoUrl": "https://lh3.googleusercontent.com/a/default-user=s64",
      "userId": "02644303183786394254"
     },
     "user_tz": -540
    },
    "id": "NqP8jyJF_jZs",
    "outputId": "04250ca8-2cf6-459a-c575-54e9100ec3ef"
   },
   "outputs": [],
   "source": [
    "# 任意のディレクトリに移動\n",
    "%cd /content/drive/'My Drive'/'Sentinel-2'/'okinawa'"
   ]
  },
  {
   "cell_type": "markdown",
   "metadata": {
    "id": "d-C_5fwwAD2B"
   },
   "source": [
    "## 2. 使用パッケージのインストール\n",
    "今回使用する以下のパッケージをインストール\n",
    " - rasterio: 地理データ活用用\n",
    " - geojson: GeoJsonファイル操作用\n",
    " - geopandas: 地理情報をデータフレーム化用"
   ]
  },
  {
   "cell_type": "code",
   "execution_count": null,
   "metadata": {
    "colab": {
     "base_uri": "https://localhost:8080/"
    },
    "executionInfo": {
     "elapsed": 16537,
     "status": "ok",
     "timestamp": 1635847081108,
     "user": {
      "displayName": "yuto Inagaki",
      "photoUrl": "https://lh3.googleusercontent.com/a/default-user=s64",
      "userId": "02644303183786394254"
     },
     "user_tz": -540
    },
    "id": "sJYyGqme_84b",
    "outputId": "c13107df-9dcd-422b-8fbd-2f1584b43930"
   },
   "outputs": [],
   "source": [
    "!pip install rasterio\n",
    "!pip install geojson\n",
    "!pip install geopandas"
   ]
  },
  {
   "cell_type": "code",
   "execution_count": null,
   "metadata": {
    "executionInfo": {
     "elapsed": 1822,
     "status": "ok",
     "timestamp": 1635847083944,
     "user": {
      "displayName": "yuto Inagaki",
      "photoUrl": "https://lh3.googleusercontent.com/a/default-user=s64",
      "userId": "02644303183786394254"
     },
     "user_tz": -540
    },
    "id": "-iq_88D8ANWG"
   },
   "outputs": [],
   "source": [
    "# 使用パッケージのインポート\n",
    "import os\n",
    "import json\n",
    "import zipfile\n",
    "import folium\n",
    "from geojson import Polygon\n",
    "import rasterio as rio\n",
    "import rasterio.mask\n",
    "import fiona\n",
    "import geopandas as gpd\n",
    "from rasterio.plot import show\n",
    "from osgeo import gdal\n",
    "from glob import glob\n",
    "import matplotlib.pyplot as plt\n",
    "%matplotlib inline"
   ]
  },
  {
   "cell_type": "markdown",
   "metadata": {
    "id": "QUgBqy7MAnb5"
   },
   "source": [
    "## 3. 検索範囲の指定\n",
    "Sentinel-2のデータを全て表示するには、非常に時間がかかる。  \n",
    "そのため、今回はSentine-2データ内の気になる範囲を抜き出す。"
   ]
  },
  {
   "cell_type": "code",
   "execution_count": null,
   "metadata": {
    "colab": {
     "base_uri": "https://localhost:8080/",
     "height": 501
    },
    "executionInfo": {
     "elapsed": 17,
     "status": "ok",
     "timestamp": 1635847083945,
     "user": {
      "displayName": "yuto Inagaki",
      "photoUrl": "https://lh3.googleusercontent.com/a/default-user=s64",
      "userId": "02644303183786394254"
     },
     "user_tz": -540
    },
    "id": "EoEEVGXxAU9p",
    "outputId": "d2e77159-9ac6-4ad2-a4fa-49f345463af6"
   },
   "outputs": [],
   "source": [
    "from IPython.display import HTML\n",
    "HTML(r'<iframe src=\"https://www.keene.edu/campus/maps/tool/\" width=\"960\" height=\"480\" frameborder=\"0\">')"
   ]
  },
  {
   "cell_type": "code",
   "execution_count": null,
   "metadata": {
    "executionInfo": {
     "elapsed": 305,
     "status": "ok",
     "timestamp": 1635848278005,
     "user": {
      "displayName": "yuto Inagaki",
      "photoUrl": "https://lh3.googleusercontent.com/a/default-user=s64",
      "userId": "02644303183786394254"
     },
     "user_tz": -540
    },
    "id": "3NBy2FaHAege"
   },
   "outputs": [],
   "source": [
    "AREA = [\n",
    "      [\n",
    "        127.8962971,\n",
    "        26.8082562\n",
    "      ],\n",
    "      [\n",
    "        127.8829075,\n",
    "        26.7506341\n",
    "      ],\n",
    "      [\n",
    "        127.9436756,\n",
    "        26.7353041\n",
    "      ],\n",
    "      [\n",
    "        127.9635883,\n",
    "        26.7910952\n",
    "      ],\n",
    "      [\n",
    "        127.8962971,\n",
    "        26.8082562\n",
    "      ]\n",
    "    ]"
   ]
  },
  {
   "cell_type": "markdown",
   "metadata": {
    "id": "NgPAFoaGBRJv"
   },
   "source": [
    "指定した範囲のGeoJsonファイルを作成"
   ]
  },
  {
   "cell_type": "code",
   "execution_count": null,
   "metadata": {
    "executionInfo": {
     "elapsed": 449,
     "status": "ok",
     "timestamp": 1635848280224,
     "user": {
      "displayName": "yuto Inagaki",
      "photoUrl": "https://lh3.googleusercontent.com/a/default-user=s64",
      "userId": "02644303183786394254"
     },
     "user_tz": -540
    },
    "id": "SVbphhfSBOVG"
   },
   "outputs": [],
   "source": [
    "# ファイル名を定義\n",
    "m = Polygon([AREA])\n",
    "object_name = \"okinawa_aoi\"\n",
    "\n",
    "# 範囲指定をするGeoJsonファイルを定義\n",
    "with open(object_name+\".geojson\", \"w\") as f:\n",
    "  json.dump(m, f)"
   ]
  },
  {
   "cell_type": "markdown",
   "metadata": {
    "id": "ycTzf1WCl93P"
   },
   "source": [
    "作成したGeoJsonファイルを確認する。"
   ]
  },
  {
   "cell_type": "code",
   "execution_count": null,
   "metadata": {
    "colab": {
     "base_uri": "https://localhost:8080/",
     "height": 808
    },
    "executionInfo": {
     "elapsed": 8,
     "status": "ok",
     "timestamp": 1635848281160,
     "user": {
      "displayName": "yuto Inagaki",
      "photoUrl": "https://lh3.googleusercontent.com/a/default-user=s64",
      "userId": "02644303183786394254"
     },
     "user_tz": -540
    },
    "id": "H68XxvDoBdMg",
    "outputId": "81db3c5c-2ef4-4706-f8dc-7cbee7cd723d"
   },
   "outputs": [],
   "source": [
    "# 定義した領域が合っているかを確認\n",
    "m = folium.Map([(AREA[0][1] + AREA[len(AREA)-1][1])/2, (AREA[0][0]+AREA[len(AREA)-1][0])/2], zoom_start=10)\n",
    "\n",
    "folium.GeoJson(object_name+\".geojson\").add_to(m)\n",
    "m"
   ]
  },
  {
   "cell_type": "markdown",
   "metadata": {
    "id": "KCvuhmIpmIda"
   },
   "source": [
    "## 4. Sentinel-2データの読み込み"
   ]
  },
  {
   "cell_type": "code",
   "execution_count": null,
   "metadata": {
    "executionInfo": {
     "elapsed": 18399,
     "status": "ok",
     "timestamp": 1635848300228,
     "user": {
      "displayName": "yuto Inagaki",
      "photoUrl": "https://lh3.googleusercontent.com/a/default-user=s64",
      "userId": "02644303183786394254"
     },
     "user_tz": -540
    },
    "id": "y072_qLFmEr8"
   },
   "outputs": [],
   "source": [
    "# Sentinel-2データの取得\n",
    "zip_list = glob(\"./TIF/*.zip\")\n",
    "\n",
    "# zipファイルの解答処理\n",
    "for zip_name in zip_list:\n",
    "  with zipfile.ZipFile(zip_name) as zf:\n",
    "    zf.extractall()"
   ]
  },
  {
   "cell_type": "code",
   "execution_count": null,
   "metadata": {
    "executionInfo": {
     "elapsed": 5,
     "status": "ok",
     "timestamp": 1635848300229,
     "user": {
      "displayName": "yuto Inagaki",
      "photoUrl": "https://lh3.googleusercontent.com/a/default-user=s64",
      "userId": "02644303183786394254"
     },
     "user_tz": -540
    },
    "id": "9MPfv5xmqILd"
   },
   "outputs": [],
   "source": [
    "# Sentinel-2読み込み関数\n",
    "def read_sentinel2(product):\n",
    "  # ファイルパスの指定\n",
    "  path_A = product + \".SAFE/GRANULE\"\n",
    "  files_A = os.listdir(path_A)\n",
    "  \n",
    "  path_B = os.path.join(path_A, files_A[0]+\"/IMG_DATA/\")\n",
    "  files_B = os.listdir(path_B)\n",
    "  \n",
    "  # 各バンドごとに読み込む\n",
    "  b2 = rio.open(path_B + str(files_B[0][0:23] + 'B02.jp2'))\n",
    "  b3 = rio.open(path_B + str(files_B[0][0:23] + 'B03.jp2'))\n",
    "  b4 = rio.open(path_B + str(files_B[0][0:23] + 'B04.jp2'))\n",
    "\n",
    "  return b2, b3, b4"
   ]
  },
  {
   "cell_type": "code",
   "execution_count": null,
   "metadata": {
    "executionInfo": {
     "elapsed": 4,
     "status": "ok",
     "timestamp": 1635848300229,
     "user": {
      "displayName": "yuto Inagaki",
      "photoUrl": "https://lh3.googleusercontent.com/a/default-user=s64",
      "userId": "02644303183786394254"
     },
     "user_tz": -540
    },
    "id": "co2CmKgpsEwh"
   },
   "outputs": [],
   "source": [
    "# サンプルTIFファイルの作成関数\n",
    "def make_rgb(RGB_path):\n",
    "  # サンプルTIFファイルの作成\n",
    "  RGB_color = rio.open(RGB_path, 'w', driver='Gtiff',\n",
    "                       width=b4.width, height=b4.height, count=3,\n",
    "                       crs=b4.crs, transform=b4.transform,\n",
    "                       dtype=rasterio.uint16)\n",
    "\n",
    "  RGB_color.write(b2.read(1), 3)\n",
    "  RGB_color.write(b3.read(1), 2)\n",
    "  RGB_color.write(b4.read(1), 1)\n",
    "  RGB_color.close()"
   ]
  },
  {
   "cell_type": "code",
   "execution_count": null,
   "metadata": {
    "colab": {
     "base_uri": "https://localhost:8080/"
    },
    "executionInfo": {
     "elapsed": 159869,
     "status": "ok",
     "timestamp": 1635848460094,
     "user": {
      "displayName": "yuto Inagaki",
      "photoUrl": "https://lh3.googleusercontent.com/a/default-user=s64",
      "userId": "02644303183786394254"
     },
     "user_tz": -540
    },
    "id": "7iVQ7Ojvmd4N",
    "outputId": "5cca15d5-139f-46c0-b4ae-d6ee398ee731"
   },
   "outputs": [],
   "source": [
    "# 解凍後のディレクトリ指定\n",
    "product_list = [os.path.splitext(os.path.basename(file))[0] for file in zip_list]\n",
    "\n",
    "for product in product_list:\n",
    "  # Sentinel-2データの読み込み\n",
    "  b2, b3, b4 = read_sentinel2(product)\n",
    "\n",
    "  # サンプルTrueColorファイルの作成\n",
    "  RGB_path = \"sentinel-2_\" + product[11:19] + \"_RGB.tif\"\n",
    "  make_rgb(RGB_path)\n",
    "\n",
    "  # マスク処理の実施\n",
    "  out_geojson = object_name+\".geojson\"\n",
    "\n",
    "  nReserve_geo = gpd.read_file(out_geojson)\n",
    "  epsg = b4.crs\n",
    "  nReserve_proj = nReserve_geo.to_crs({'init': epsg})\n",
    "\n",
    "  with rasterio.open(RGB_path) as src:\n",
    "    out_image, out_transform = rasterio.mask.mask(src, nReserve_proj.geometry, crop=True)\n",
    "    out_meta = src.meta\n",
    "  \n",
    "  out_meta.update({\"driver\": \"GTiff\",\n",
    "                  \"height\": out_image.shape[1],\n",
    "                  \"width\": out_image.shape[2],\n",
    "                  \"transform\": out_transform})\n",
    "  \n",
    "  with rasterio.open(RGB_path, \"w\", **out_meta) as dest:\n",
    "    dest.write(out_image)\n",
    "\n",
    "  # 画像表示のため8bit形式で書き出し\n",
    "  scale = '-scale 0 255 0 15'\n",
    "  options_list = ['-ot Byte', '-of Gtiff', scale]\n",
    "  options_string = \" \".join(options_list)  \n",
    "\n",
    "  gdal.Translate(os.path.join('sentinel-2_'+product[11:19]+'.tif'),os.path.join('sentinel-2_'+product[11:19]+'_RGB.tif'),options = options_string)\n",
    "\n",
    "  print(\"Done\")"
   ]
  },
  {
   "cell_type": "code",
   "execution_count": null,
   "metadata": {
    "colab": {
     "base_uri": "https://localhost:8080/",
     "height": 524
    },
    "executionInfo": {
     "elapsed": 1843,
     "status": "ok",
     "timestamp": 1635848461932,
     "user": {
      "displayName": "yuto Inagaki",
      "photoUrl": "https://lh3.googleusercontent.com/a/default-user=s64",
      "userId": "02644303183786394254"
     },
     "user_tz": -540
    },
    "id": "-ovVH7tCoJAz",
    "outputId": "ce9c5451-e0a0-49e8-d798-c4fd49df5ff4"
   },
   "outputs": [],
   "source": [
    "plt.figure(figsize=(18, 9))\n",
    "\n",
    "RGB_image1 = rio.open(\"./sentinel-2_20211016.tif\")\n",
    "RGB_image2 = rio.open(\"./sentinel-2_20211026.tif\")\n",
    "\n",
    "ax1 = plt.subplot(1, 2, 1)\n",
    "ax1.set_title(\"okinawa_2021_1016\")\n",
    "ax2 = plt.subplot(1, 2, 2)\n",
    "ax2.set_title(\"okinawa_2021_1026\")\n",
    "\n",
    "show(RGB_image1.read([1, 2, 3]), ax=ax1)\n",
    "show(RGB_image2.read([1, 2, 3]), ax=ax2)\n",
    "\n",
    "plt.show()"
   ]
  },
  {
   "cell_type": "code",
   "execution_count": null,
   "metadata": {
    "id": "Wl4k9w7WGVVL"
   },
   "outputs": [],
   "source": [
    "\n"
   ]
  }
 ],
 "metadata": {
  "colab": {
   "authorship_tag": "ABX9TyOM0RcvgPJG0x7DcgLilbK1",
   "collapsed_sections": [],
   "name": "read_okinawa.ipynb",
   "provenance": []
  },
  "kernelspec": {
   "display_name": "Python 3",
   "language": "python",
   "name": "python3"
  },
  "language_info": {
   "codemirror_mode": {
    "name": "ipython",
    "version": 3
   },
   "file_extension": ".py",
   "mimetype": "text/x-python",
   "name": "python",
   "nbconvert_exporter": "python",
   "pygments_lexer": "ipython3",
   "version": "3.7.4"
  }
 },
 "nbformat": 4,
 "nbformat_minor": 4
}
