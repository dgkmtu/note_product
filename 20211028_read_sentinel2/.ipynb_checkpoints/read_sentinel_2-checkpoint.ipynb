{
 "cells": [
  {
   "cell_type": "markdown",
   "metadata": {
    "id": "2pidS1-W4SpL"
   },
   "source": [
    "# Sentinel-2データの読み込み"
   ]
  },
  {
   "cell_type": "markdown",
   "metadata": {
    "id": "YkiuMUGV4aWX"
   },
   "source": [
    "## 1. Google Colaboratryのマウント処理"
   ]
  },
  {
   "cell_type": "code",
   "execution_count": null,
   "metadata": {
    "colab": {
     "base_uri": "https://localhost:8080/"
    },
    "id": "RKGHPQf0338R",
    "outputId": "65149390-c5e7-475e-8052-c78d03f2c9be"
   },
   "outputs": [],
   "source": [
    "from google.colab import drive\n",
    "drive.mount('/content/drive')"
   ]
  },
  {
   "cell_type": "code",
   "execution_count": null,
   "metadata": {
    "colab": {
     "base_uri": "https://localhost:8080/"
    },
    "id": "SNK3mg0K4yP_",
    "outputId": "e4115db8-3df7-47c5-8750-4d7452726469"
   },
   "outputs": [],
   "source": [
    "# 任意のディレクトリに移動\n",
    "%cd /content/drive/'My Drive'/'sentinel-2'"
   ]
  },
  {
   "cell_type": "markdown",
   "metadata": {
    "id": "-RqKKkGq4SGK"
   },
   "source": [
    "## 2. 使用パッケージのインストール\n",
    "今回使用する以下のパッケージをインストール\n",
    " - rasterio: 地理データを扱う\n",
    " - geojson: GeoJsonファイルを使用する\n",
    " - geopandas: 地理情報をデータフレーム化する"
   ]
  },
  {
   "cell_type": "code",
   "execution_count": null,
   "metadata": {
    "colab": {
     "base_uri": "https://localhost:8080/"
    },
    "id": "q99mFdqf5OtC",
    "outputId": "76304fd9-1ad5-41cd-b605-52f74f00952e"
   },
   "outputs": [],
   "source": [
    "!pip install rasterio\n",
    "!pip install geojson\n",
    "!pip install geopandas"
   ]
  },
  {
   "cell_type": "code",
   "execution_count": null,
   "metadata": {
    "id": "pz0sCuGc5y9u"
   },
   "outputs": [],
   "source": [
    "# 使用パッケージのインポート\n",
    "import os\n",
    "import json\n",
    "import zipfile\n",
    "import folium\n",
    "from geojson import Polygon\n",
    "import rasterio as rio\n",
    "import rasterio.mask\n",
    "import fiona\n",
    "import geopandas as gpd\n",
    "from rasterio.plot import show\n",
    "from osgeo import gdal\n",
    "import matplotlib.pyplot as plt\n",
    "%matplotlib inline"
   ]
  },
  {
   "cell_type": "markdown",
   "metadata": {
    "id": "R_enS0_T5-wO"
   },
   "source": [
    "## 3. 検索範囲の指定\n",
    "Sentinel-2のデータを全て表示するには、非常に時間がかかる。  \n",
    "そのため、今回はSentine-2データ内の気になる範囲を抜き出す。"
   ]
  },
  {
   "cell_type": "code",
   "execution_count": null,
   "metadata": {
    "colab": {
     "base_uri": "https://localhost:8080/",
     "height": 521
    },
    "id": "cn_f4HBi59bh",
    "outputId": "3ea7484f-f884-44b4-baae-845b168a0a45"
   },
   "outputs": [],
   "source": [
    "from IPython.display import HTML\n",
    "HTML(r'<iframe src=\"https://www.keene.edu/campus/maps/tool/\" width=\"960\" height=\"480\" frameborder=\"0\">')"
   ]
  },
  {
   "cell_type": "markdown",
   "metadata": {
    "id": "2vB0nNFn8YMG"
   },
   "source": [
    "指定した範囲を以下に貼り付け"
   ]
  },
  {
   "cell_type": "code",
   "execution_count": null,
   "metadata": {
    "id": "KbmQWYFH8bGO"
   },
   "outputs": [],
   "source": [
    "AREA = [\n",
    "      [\n",
    "        140.5784708,\n",
    "        36.0220803\n",
    "      ],\n",
    "      [\n",
    "        140.6121164,\n",
    "        35.9643025\n",
    "      ],\n",
    "      [\n",
    "        140.6677347,\n",
    "        35.9798622\n",
    "      ],\n",
    "      [\n",
    "        140.636149,\n",
    "        36.0370734\n",
    "      ],\n",
    "      [\n",
    "        140.5784708,\n",
    "        36.0220803\n",
    "      ]\n",
    "  ]"
   ]
  },
  {
   "cell_type": "markdown",
   "metadata": {
    "id": "5TfO2ZOI8tgJ"
   },
   "source": [
    "指定した範囲のGeoJsonファイルを作成する。"
   ]
  },
  {
   "cell_type": "code",
   "execution_count": null,
   "metadata": {
    "id": "GJCQtlXr8mpN"
   },
   "outputs": [],
   "source": [
    "# ファイル名を定義\n",
    "m = Polygon([AREA])\n",
    "object_name = \"sentinel2_aoi\"\n",
    "\n",
    "# 範囲指定をするGeoJsonファイルを定義\n",
    "with open(object_name+\".geojson\", \"w\") as f:\n",
    "  json.dump(m, f)"
   ]
  },
  {
   "cell_type": "markdown",
   "metadata": {
    "id": "3E7deWDd894m"
   },
   "source": [
    "作成したGeoJsonファイルを確認する。"
   ]
  },
  {
   "cell_type": "code",
   "execution_count": null,
   "metadata": {
    "colab": {
     "base_uri": "https://localhost:8080/",
     "height": 520
    },
    "id": "niw72X_k89Lt",
    "outputId": "c445af65-8ab7-4d0e-bec2-7549104764ec"
   },
   "outputs": [],
   "source": [
    "# 定義した領域が合っているかを確認\n",
    "m = folium.Map([(AREA[0][1] + AREA[len(AREA)-1][1])/2, (AREA[0][0]+AREA[len(AREA)-1][0])/2], zoom_start=10)\n",
    "\n",
    "folium.GeoJson(object_name+\".geojson\").add_to(m)\n",
    "m"
   ]
  },
  {
   "cell_type": "markdown",
   "metadata": {
    "id": "Wj9HO8-l9aSk"
   },
   "source": [
    "## 4. Sentinel-2データの読み込み"
   ]
  },
  {
   "cell_type": "code",
   "execution_count": null,
   "metadata": {
    "id": "qCHhBxPo9dld"
   },
   "outputs": [],
   "source": [
    "# Sentinel-2データの格納場所とファイル名を定義\n",
    "sentinel_dir = \"./TIF\"\n",
    "product_name = \"S2A_MSIL1C_20211024T012731_N0301_R074_T54SVE_20211024T030447\"\n",
    "\n",
    "# zipファイルの解凍処理\n",
    "zip_path = os.path.join(sentinel_dir, product_name+'.zip')\n",
    "with zipfile.ZipFile(zip_path) as zf:\n",
    "  zf.extractall()"
   ]
  },
  {
   "cell_type": "markdown",
   "metadata": {
    "id": "p7Q27i8I-kiL"
   },
   "source": [
    "ファイルパスを指定し、各バンドごとにファイルを読み込む。"
   ]
  },
  {
   "cell_type": "code",
   "execution_count": null,
   "metadata": {
    "id": "sCndiw5M-XlL"
   },
   "outputs": [],
   "source": [
    "# ファイルパスの指定\n",
    "path_A = str(product_name) + \".SAFE/GRANULE\"\n",
    "files_A = os.listdir(path_A)\n",
    "\n",
    "path_B = str(product_name) + \".SAFE/GRANULE/\" + str(files_A[0])\n",
    "files_B = os.listdir(path_B)\n",
    "\n",
    "path_C = str(product_name) + \".SAFE/GRANULE/\" + str(files_A[0]) + \"/IMG_DATA/\" \n",
    "files_C = os.listdir(path_C)\n",
    "\n",
    "# 各バンドごとに読み込む\n",
    "b2 = rio.open(str(product_name) + '.SAFE/GRANULE/' + str(files_A[0]) + '/IMG_DATA/' + str(files_C[0][0:23] + 'B02.jp2'))\n",
    "b3 = rio.open(str(product_name) + '.SAFE/GRANULE/' + str(files_A[0]) + '/IMG_DATA/' + str(files_C[0][0:23] + 'B03.jp2'))\n",
    "b4 = rio.open(str(product_name) + '.SAFE/GRANULE/' + str(files_A[0]) + '/IMG_DATA/' + str(files_C[0][0:23] + 'B04.jp2'))\n"
   ]
  },
  {
   "cell_type": "markdown",
   "metadata": {
    "id": "_9qSeToN-8FP"
   },
   "source": [
    "画像データを出力する前に、サンプルファイルを作成する。"
   ]
  },
  {
   "cell_type": "code",
   "execution_count": null,
   "metadata": {
    "id": "WY6ZuW7d-uwF"
   },
   "outputs": [],
   "source": [
    "# サンプルTIFファイルの作成\n",
    "RGB_path = 'sentinel-2_' + str(files_C[0][7:15]) + '_RGB.tif'\n",
    "\n",
    "RGB_color = rio.open(RGB_path, 'w', driver='Gtiff',\n",
    "                       width=b4.width, height=b4.height, count=3,\n",
    "                       crs=b4.crs, transform=b4.transform,\n",
    "                       dtype=rasterio.uint16)\n",
    "\n",
    "RGB_color.write(b2.read(1), 3)\n",
    "RGB_color.write(b3.read(1), 2)\n",
    "RGB_color.write(b4.read(1), 1)\n",
    "RGB_color.close()"
   ]
  },
  {
   "cell_type": "markdown",
   "metadata": {
    "id": "LvlpIHCdNgez"
   },
   "source": [
    "## 5. 画像の書き出し処理"
   ]
  },
  {
   "cell_type": "code",
   "execution_count": null,
   "metadata": {
    "colab": {
     "base_uri": "https://localhost:8080/"
    },
    "id": "sQ6qinec_Io5",
    "outputId": "415d0ce9-5dcd-452c-c2c6-09976ee863b5"
   },
   "outputs": [],
   "source": [
    "# マスク処理の実施\n",
    "out_geojson = object_name+\".geojson\"\n",
    "\n",
    "nReserve_geo = gpd.read_file(out_geojson)\n",
    "epsg = b4.crs\n",
    "nReserve_proj = nReserve_geo.to_crs({'init': epsg})\n",
    "\n",
    "with rasterio.open(RGB_path) as src:\n",
    "  out_image, out_transform = rasterio.mask.mask(src, nReserve_proj.geometry, crop=True)\n",
    "  out_meta = src.meta\n",
    "  \n",
    "out_meta.update({\"driver\": \"GTiff\",\n",
    "                  \"height\": out_image.shape[1],\n",
    "                  \"width\": out_image.shape[2],\n",
    "                  \"transform\": out_transform})\n",
    "  \n",
    "with rasterio.open(RGB_path, \"w\", **out_meta) as dest:\n",
    "  dest.write(out_image)"
   ]
  },
  {
   "cell_type": "code",
   "execution_count": null,
   "metadata": {
    "colab": {
     "base_uri": "https://localhost:8080/"
    },
    "id": "8PQllij5_L_5",
    "outputId": "9a1cf6eb-a05d-4bd4-e9f6-c33b230ac22d"
   },
   "outputs": [],
   "source": [
    "# 画像表示のため8bit形式で書き出し\n",
    "scale = '-scale 0 255 0 15'\n",
    "options_list = ['-ot Byte', '-of Gtiff', scale]\n",
    "options_string = \" \".join(options_list)  \n",
    "\n",
    "gdal.Translate(os.path.join('sentinel-2_'+str(files_C[0][7:15])+'.tif'),os.path.join('sentinel-2_'+str(files_C[0][7:15])+'_RGB.tif'),options = options_string)\n",
    "\n",
    "print(\"Done\")"
   ]
  },
  {
   "cell_type": "markdown",
   "metadata": {
    "id": "ahNVegL8NXdJ"
   },
   "source": [
    "## 6. 画像の表示"
   ]
  },
  {
   "cell_type": "code",
   "execution_count": null,
   "metadata": {
    "colab": {
     "base_uri": "https://localhost:8080/",
     "height": 541
    },
    "id": "9msZfI9z_O-4",
    "outputId": "8476313b-2c0a-4619-d2c8-c2f8258bb4b1"
   },
   "outputs": [],
   "source": [
    "# 画像の表示\n",
    "RGB_image1 = rio.open('sentinel-2_'+str(files_C[0][7:15])+'.tif')\n",
    "\n",
    "plt.figure(figsize=(18, 9))\n",
    "show(RGB_image1.read([1, 2, 3]))\n",
    "plt.show()"
   ]
  },
  {
   "cell_type": "code",
   "execution_count": null,
   "metadata": {
    "id": "T-PAY1ce_jBc"
   },
   "outputs": [],
   "source": []
  }
 ],
 "metadata": {
  "colab": {
   "collapsed_sections": [],
   "name": "read_sentinel-2.ipynb",
   "provenance": []
  },
  "kernelspec": {
   "display_name": "Python 3",
   "language": "python",
   "name": "python3"
  },
  "language_info": {
   "codemirror_mode": {
    "name": "ipython",
    "version": 3
   },
   "file_extension": ".py",
   "mimetype": "text/x-python",
   "name": "python",
   "nbconvert_exporter": "python",
   "pygments_lexer": "ipython3",
   "version": "3.7.4"
  }
 },
 "nbformat": 4,
 "nbformat_minor": 4
}
