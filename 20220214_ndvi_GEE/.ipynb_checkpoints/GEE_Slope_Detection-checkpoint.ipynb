{
 "cells": [
  {
   "cell_type": "code",
   "execution_count": null,
   "metadata": {
    "colab": {
     "base_uri": "https://localhost:8080/"
    },
    "executionInfo": {
     "elapsed": 18813,
     "status": "ok",
     "timestamp": 1644894812511,
     "user": {
      "displayName": "yuto inagaki",
      "photoUrl": "https://lh3.googleusercontent.com/a/default-user=s64",
      "userId": "00038186117834990326"
     },
     "user_tz": -540
    },
    "id": "9TbiGlIsXnu4",
    "outputId": "58eb99f2-1b6c-45f9-f0c9-12e9cb4f544e"
   },
   "outputs": [],
   "source": [
    "import ee \n",
    "\n",
    "ee.Authenticate()\n",
    "ee.Initialize()"
   ]
  },
  {
   "cell_type": "code",
   "execution_count": null,
   "metadata": {
    "executionInfo": {
     "elapsed": 1555,
     "status": "ok",
     "timestamp": 1644894832581,
     "user": {
      "displayName": "yuto inagaki",
      "photoUrl": "https://lh3.googleusercontent.com/a/default-user=s64",
      "userId": "00038186117834990326"
     },
     "user_tz": -540
    },
    "id": "dONRqvgZXxzK"
   },
   "outputs": [],
   "source": [
    "import os\n",
    "import json\n",
    "import folium\n",
    "from glob import glob\n",
    "from tqdm import tqdm\n",
    "from datetime import datetime\n",
    "from dateutil.parser import parse\n",
    "import numpy as np\n",
    "import pandas as pd\n",
    "import matplotlib.pyplot as plt\n",
    "import rasterio as rio\n",
    "\n",
    "import gdal\n",
    "import matplotlib.pyplot as plt\n",
    "import cv2\n",
    "from PIL import Image, ImageDraw, ImageFont"
   ]
  },
  {
   "cell_type": "code",
   "execution_count": null,
   "metadata": {
    "colab": {
     "base_uri": "https://localhost:8080/",
     "height": 601
    },
    "executionInfo": {
     "elapsed": 8,
     "status": "ok",
     "timestamp": 1644894841037,
     "user": {
      "displayName": "yuto inagaki",
      "photoUrl": "https://lh3.googleusercontent.com/a/default-user=s64",
      "userId": "00038186117834990326"
     },
     "user_tz": -540
    },
    "id": "dOTqO54uXz1W",
    "outputId": "b035a005-3e04-43e6-e19d-6b97d073cd48"
   },
   "outputs": [],
   "source": [
    "#関心領域のポリゴン情報の取得．\n",
    "from IPython.display import HTML\n",
    "HTML(r'<iframe width=\"1000\" height=\"580\" src=\"https://gispolygon.herokuapp.com/\" frameborder=\"0\"></iframe>')"
   ]
  },
  {
   "cell_type": "code",
   "execution_count": null,
   "metadata": {
    "executionInfo": {
     "elapsed": 412,
     "status": "ok",
     "timestamp": 1644894937218,
     "user": {
      "displayName": "yuto inagaki",
      "photoUrl": "https://lh3.googleusercontent.com/a/default-user=s64",
      "userId": "00038186117834990326"
     },
     "user_tz": -540
    },
    "id": "-kneFoHNX2N_"
   },
   "outputs": [],
   "source": [
    "A = {\"type\":\"FeatureCollection\",\"features\":[{\"properties\":{\"note\":\"\",\"distance\":\"4485.99 m\",\"drawtype\":\"rectangle\",\"area\":\"240.27 ha\"},\"type\":\"Feature\",\"geometry\":{\"type\":\"Polygon\",\"coordinates\":[[[139.06939256354238,35.11108507585014],[139.06939256354238,35.12335877566103],[139.08870513900183,35.12335877566103],[139.08870513900183,35.11108507585014],[139.06939256354238,35.11108507585014]]]}}]}"
   ]
  },
  {
   "cell_type": "code",
   "execution_count": null,
   "metadata": {
    "executionInfo": {
     "elapsed": 2,
     "status": "ok",
     "timestamp": 1644894963534,
     "user": {
      "displayName": "yuto inagaki",
      "photoUrl": "https://lh3.googleusercontent.com/a/default-user=s64",
      "userId": "00038186117834990326"
     },
     "user_tz": -540
    },
    "id": "149iXzPZYNsN"
   },
   "outputs": [],
   "source": [
    "object_name = 'SlopeDetection'"
   ]
  },
  {
   "cell_type": "code",
   "execution_count": null,
   "metadata": {
    "executionInfo": {
     "elapsed": 447,
     "status": "ok",
     "timestamp": 1644895011563,
     "user": {
      "displayName": "yuto inagaki",
      "photoUrl": "https://lh3.googleusercontent.com/a/default-user=s64",
      "userId": "00038186117834990326"
     },
     "user_tz": -540
    },
    "id": "n_pWXvdEYUNs"
   },
   "outputs": [],
   "source": [
    "with open(object_name + '.geojson', 'w') as f:\n",
    "  json.dump(A, f)\n",
    "\n",
    "json_file = open(object_name + '.geojson')\n",
    "json_object = json.load(json_file)\n",
    "\n",
    "# jsonから関心域の緯度・経度情報のみを抽出する。\n",
    "AREA = json_object['features'][0]['geometry']['coordinates'][0]\n",
    "area = pd.DataFrame(AREA, columns=['longitude', 'latitude'])\n",
    "\n",
    "area_d = [[area['longitude'].min(), area['latitude'].max()],\n",
    "          [area['longitude'].max(), area['latitude'].max()],\n",
    "          [area['longitude'].max(), area['latitude'].min()],\n",
    "          [area['longitude'].min(), area['latitude'].min()],\n",
    "          [area['longitude'].min(), area['latitude'].max()]\n",
    "          ]\n",
    "\n",
    "AREA = area_d"
   ]
  },
  {
   "cell_type": "code",
   "execution_count": null,
   "metadata": {
    "colab": {
     "base_uri": "https://localhost:8080/",
     "height": 808
    },
    "executionInfo": {
     "elapsed": 357,
     "status": "ok",
     "timestamp": 1644895023757,
     "user": {
      "displayName": "yuto inagaki",
      "photoUrl": "https://lh3.googleusercontent.com/a/default-user=s64",
      "userId": "00038186117834990326"
     },
     "user_tz": -540
    },
    "id": "0aVVVEAnYf12",
    "outputId": "33af63e2-3faa-47be-c149-6a4b44f95aeb"
   },
   "outputs": [],
   "source": [
    "m = folium.Map([(AREA[0][1]+AREA[len(AREA)-2][1])/2, (AREA[0][0]+AREA[len(AREA)-3][0])/2], zoom_start=15)\n",
    "\n",
    "folium.GeoJson(object_name + '.geojson').add_to(m)\n",
    "m"
   ]
  },
  {
   "cell_type": "code",
   "execution_count": null,
   "metadata": {
    "executionInfo": {
     "elapsed": 408,
     "status": "ok",
     "timestamp": 1644895047706,
     "user": {
      "displayName": "yuto inagaki",
      "photoUrl": "https://lh3.googleusercontent.com/a/default-user=s64",
      "userId": "00038186117834990326"
     },
     "user_tz": -540
    },
    "id": "vDYgl0yMYi2V"
   },
   "outputs": [],
   "source": [
    "region = ee.Geometry.Rectangle(area['longitude'].min(), area['latitude'].min(), area['longitude'].max(), area['latitude'].max())"
   ]
  },
  {
   "cell_type": "code",
   "execution_count": null,
   "metadata": {
    "executionInfo": {
     "elapsed": 417,
     "status": "ok",
     "timestamp": 1644895091236,
     "user": {
      "displayName": "yuto inagaki",
      "photoUrl": "https://lh3.googleusercontent.com/a/default-user=s64",
      "userId": "00038186117834990326"
     },
     "user_tz": -540
    },
    "id": "TKFThfqlYoqr"
   },
   "outputs": [],
   "source": [
    "# 期間を指定\n",
    "from_date = '2021-05-01'\n",
    "to_date = '2021-11-01'\n",
    "\n",
    "# 保存するフォルダ名\n",
    "dir_name_s2 = 'GEE_Sentinel2_' + object_name\n",
    "\n",
    "# 保存フォルダの作成\n",
    "os.makedirs(dir_name_s2, exist_ok=True)"
   ]
  },
  {
   "cell_type": "code",
   "execution_count": null,
   "metadata": {
    "executionInfo": {
     "elapsed": 449,
     "status": "ok",
     "timestamp": 1644896134227,
     "user": {
      "displayName": "yuto inagaki",
      "photoUrl": "https://lh3.googleusercontent.com/a/default-user=s64",
      "userId": "00038186117834990326"
     },
     "user_tz": -540
    },
    "id": "aDKsWEJfYzS-"
   },
   "outputs": [],
   "source": [
    "def cloudMasking(image):\n",
    "  qa = image.select('QA60')\n",
    "  cloudBitMask = 1 << 10\n",
    "  cirrusBitMask = 1 << 11\n",
    "  mask = qa.bitwiseAnd(cloudBitMask).eq(0).And(qa.bitwiseAnd(cirrusBitMask).eq(0))\n",
    "  return image.updateMask(mask).divide(10000)\n",
    "\n",
    "def ImageExport(image, description, folder, region, scale):\n",
    "  task = ee.batch.Export.image.toDrive(image=image, description=description, folder=folder, region=region, scale=scale)\n",
    "  task.start()\n",
    "\n",
    "Sentinel2 = ee.ImageCollection('COPERNICUS/S2').filterBounds(region).filterDate(parse(from_date), parse(to_date)).filterMetadata('CLOUDY_PIXEL_PERCENTAGE', 'less_than', 3).map(cloudMasking).select(['B4', 'B3', 'B2', 'B8'])\n",
    "imageList_s2 = Sentinel2.toList(300)"
   ]
  },
  {
   "cell_type": "code",
   "execution_count": null,
   "metadata": {
    "colab": {
     "base_uri": "https://localhost:8080/"
    },
    "executionInfo": {
     "elapsed": 26612,
     "status": "ok",
     "timestamp": 1644896163443,
     "user": {
      "displayName": "yuto inagaki",
      "photoUrl": "https://lh3.googleusercontent.com/a/default-user=s64",
      "userId": "00038186117834990326"
     },
     "user_tz": -540
    },
    "id": "sgh8koTpZBnq",
    "outputId": "72e2ce2c-ffab-434e-8420-e94e1d138399"
   },
   "outputs": [],
   "source": [
    "# Sentinel-2の関心域の画像を取得\n",
    "for i in tqdm(range(imageList_s2.size().getInfo())):\n",
    "  image = ee.Image(imageList_s2.get(i))\n",
    "  ImageExport(image.reproject(crs='EPSG:4326', scale=10), image.get('system:index').getInfo(), dir_name_s2, region['coordinates'][0], 10)"
   ]
  },
  {
   "cell_type": "code",
   "execution_count": null,
   "metadata": {
    "colab": {
     "base_uri": "https://localhost:8080/",
     "height": 289
    },
    "executionInfo": {
     "elapsed": 6698,
     "status": "ok",
     "timestamp": 1644896322939,
     "user": {
      "displayName": "yuto inagaki",
      "photoUrl": "https://lh3.googleusercontent.com/a/default-user=s64",
      "userId": "00038186117834990326"
     },
     "user_tz": -540
    },
    "id": "t8HBGKXPZGpk",
    "outputId": "36d5cabc-fcd5-4ea0-8acf-ab9aba71d6d7"
   },
   "outputs": [],
   "source": [
    "# 時系列で可視化\n",
    "s2_path = f'./{dir_name_s2}/'\n",
    "files = os.listdir(s2_path)\n",
    "files.sort()\n",
    "\n",
    "j = 0\n",
    "v = len(files) // 5 + 1\n",
    "\n",
    "plt.figure(figsize=(25, 25))\n",
    "for i in range(len(files)):\n",
    "  # 画像を１シーンずつ取得して可視化\n",
    "  with rio.open(s2_path + files[i]) as src:\n",
    "    arr = src.read()\n",
    "  j += 1\n",
    "  plt.subplot(v, 5, j)\n",
    "  arrayImg = np.asarray(arr).transpose(1, 2, 0).astype(np.float32) * 3\n",
    "  plt.imshow(arrayImg[:, :, :3])\n",
    "  plt.title(files[i][0:8])\n",
    "  plt.tight_layout()"
   ]
  },
  {
   "cell_type": "code",
   "execution_count": null,
   "metadata": {
    "executionInfo": {
     "elapsed": 389,
     "status": "ok",
     "timestamp": 1644896421958,
     "user": {
      "displayName": "yuto inagaki",
      "photoUrl": "https://lh3.googleusercontent.com/a/default-user=s64",
      "userId": "00038186117834990326"
     },
     "user_tz": -540
    },
    "id": "n3GfMwJhZ7gZ"
   },
   "outputs": [],
   "source": [
    "s2_before = f'{s2_path}20210502T012649_20210502T012651_T54SUD.tif'\n",
    "s2_after = f'{s2_path}20210805T012701_20210805T012658_T54SUD.tif'"
   ]
  },
  {
   "cell_type": "code",
   "execution_count": null,
   "metadata": {
    "executionInfo": {
     "elapsed": 3,
     "status": "ok",
     "timestamp": 1644898172382,
     "user": {
      "displayName": "yuto inagaki",
      "photoUrl": "https://lh3.googleusercontent.com/a/default-user=s64",
      "userId": "00038186117834990326"
     },
     "user_tz": -540
    },
    "id": "Lt9dEjHQkJr9"
   },
   "outputs": [],
   "source": [
    "# NDVI(正規化植生指標)の計算関数\n",
    "def calculate_ndvi(band_nir, band_red):\n",
    "  nir = band_nir\n",
    "  red = band_red\n",
    "\n",
    "  ndvi = np.where(\n",
    "        (nir + red) == 0.,\n",
    "        0, (nir - red)/(nir + red)\n",
    "  )\n",
    "\n",
    "  return ndvi"
   ]
  },
  {
   "cell_type": "code",
   "execution_count": null,
   "metadata": {
    "executionInfo": {
     "elapsed": 1534,
     "status": "ok",
     "timestamp": 1644901717845,
     "user": {
      "displayName": "yuto inagaki",
      "photoUrl": "https://lh3.googleusercontent.com/a/default-user=s64",
      "userId": "00038186117834990326"
     },
     "user_tz": -540
    },
    "id": "QuEf8d7ad4NF"
   },
   "outputs": [],
   "source": [
    "# 衛星画像の読み込み\n",
    "before = rio.open(s2_before)\n",
    "arr_before = before.read()\n",
    "after = rio.open(s2_after)\n",
    "arr_after = after.read()\n",
    "\n",
    "# 配列の変換および輝度の強化\n",
    "arrayImg_before = np.asarray(arr_before).transpose(1, 2, 0).astype(np.float32) * 3\n",
    "arrayImg_after = np.asarray(arr_after).transpose(1, 2, 0).astype(np.float32) * 3\n",
    "\n",
    "# 赤バンドと赤外線バンドを変数に格納\n",
    "arrayRed_before = arrayImg_before[:, :, 0]\n",
    "arrayRed_after = arrayImg_after[:, :, 0]\n",
    "arrayNIR_before = arrayImg_before[:, :, 3]\n",
    "arrayNIR_after = arrayImg_after[:, :, 3]\n",
    "\n",
    "arrayNDVI_before = calculate_ndvi(arrayNIR_before, arrayRed_before)\n",
    "arrayNDVI_after = calculate_ndvi(arrayNIR_after, arrayRed_after)\n",
    "\n",
    "# NDVIの計算結果を出力\n",
    "### 災害前NDVI ###\n",
    "NDVI_before = rio.open('NDVI_before.tif', 'w', driver='GTiff',\n",
    "                        width=before.width, height=before.height, count=1,\n",
    "                        crs=before.crs, transform=before.transform,\n",
    "                        dtype=rio.float32)\n",
    "NDVI_before.write(arrayNDVI_before, 1)\n",
    "NDVI_before.close()\n",
    "### 災害後NDVI ###\n",
    "NDVI_after = rio.open('NDVI_after.tif', 'w', driver='GTiff',\n",
    "                        width=after.width, height=after.height, count=1,\n",
    "                        crs=after.crs, transform=after.transform,\n",
    "                        dtype=rio.float32)\n",
    "NDVI_after.write(arrayNDVI_after, 1)\n",
    "NDVI_after.close()"
   ]
  },
  {
   "cell_type": "code",
   "execution_count": null,
   "metadata": {
    "executionInfo": {
     "elapsed": 573,
     "status": "ok",
     "timestamp": 1644903438377,
     "user": {
      "displayName": "yuto inagaki",
      "photoUrl": "https://lh3.googleusercontent.com/a/default-user=s64",
      "userId": "00038186117834990326"
     },
     "user_tz": -540
    },
    "id": "EkB8AgeQd70n"
   },
   "outputs": [],
   "source": [
    "# NDVI計算結果を重ね合わせ\n",
    "diff_NDVI = arrayNDVI_after - arrayNDVI_before \n",
    "diff_NDVI_sd = diff_NDVI.std()\n",
    "diff_NDVI_mean = diff_NDVI.mean()\n",
    "thresh = diff_NDVI_mean - (diff_NDVI_sd * 3)\n",
    "\n",
    "result = np.abs(np.where(diff_NDVI < thresh, diff_NDVI, 0))\n",
    "NDVI_result = rio.open('NDVI_result_v2.tif', 'w', driver='GTiff',\n",
    "                        width=after.width, height=after.height, count=1,\n",
    "                        crs=after.crs, transform=after.transform,\n",
    "                        dtype=rio.float32)\n",
    "NDVI_result.write(result, 1)\n",
    "NDVI_result.close()"
   ]
  },
  {
   "cell_type": "code",
   "execution_count": null,
   "metadata": {
    "executionInfo": {
     "elapsed": 410,
     "status": "ok",
     "timestamp": 1644908983314,
     "user": {
      "displayName": "yuto inagaki",
      "photoUrl": "https://lh3.googleusercontent.com/a/default-user=s64",
      "userId": "00038186117834990326"
     },
     "user_tz": -540
    },
    "id": "nShp-RwBvUbS"
   },
   "outputs": [],
   "source": [
    "result_polygon = np.where(result > 0, 1, 0)\n",
    "NDVI_polygon = rio.open('NDVI_polygon.tif', 'w', driver='GTiff',\n",
    "                        width=after.width, height=after.height, count=1,\n",
    "                        crs=after.crs, transform=after.transform,\n",
    "                        dtype=rio.float32)\n",
    "NDVI_polygon.write(result_polygon, 1)\n",
    "NDVI_polygon.close()"
   ]
  },
  {
   "cell_type": "code",
   "execution_count": null,
   "metadata": {
    "colab": {
     "base_uri": "https://localhost:8080/"
    },
    "executionInfo": {
     "elapsed": 517,
     "status": "ok",
     "timestamp": 1644909265535,
     "user": {
      "displayName": "yuto inagaki",
      "photoUrl": "https://lh3.googleusercontent.com/a/default-user=s64",
      "userId": "00038186117834990326"
     },
     "user_tz": -540
    },
    "id": "5WIb4fNfx2Vk",
    "outputId": "8bd0f8f8-6d71-40a0-81ab-aceacb531e13"
   },
   "outputs": [],
   "source": [
    "!which gdal_polygonize.py"
   ]
  },
  {
   "cell_type": "code",
   "execution_count": null,
   "metadata": {
    "colab": {
     "base_uri": "https://localhost:8080/"
    },
    "executionInfo": {
     "elapsed": 540,
     "status": "ok",
     "timestamp": 1644909652209,
     "user": {
      "displayName": "yuto inagaki",
      "photoUrl": "https://lh3.googleusercontent.com/a/default-user=s64",
      "userId": "00038186117834990326"
     },
     "user_tz": -540
    },
    "id": "yu6faC7nN2fS",
    "outputId": "07fc98bf-f3c0-4287-fe13-1889a6004f1c"
   },
   "outputs": [],
   "source": [
    "!/usr/bin/gdal_polygonize.py 'NDVI_polygon.tif' 'NDVI_masked.geojson'"
   ]
  }
 ],
 "metadata": {
  "colab": {
   "authorship_tag": "ABX9TyPKCw6wcztpBRqz0wXIxoYU",
   "name": "GEE_Slope_Detection.ipynb",
   "provenance": []
  },
  "kernelspec": {
   "display_name": "Python 3",
   "language": "python",
   "name": "python3"
  },
  "language_info": {
   "codemirror_mode": {
    "name": "ipython",
    "version": 3
   },
   "file_extension": ".py",
   "mimetype": "text/x-python",
   "name": "python",
   "nbconvert_exporter": "python",
   "pygments_lexer": "ipython3",
   "version": "3.7.4"
  }
 },
 "nbformat": 4,
 "nbformat_minor": 4
}
